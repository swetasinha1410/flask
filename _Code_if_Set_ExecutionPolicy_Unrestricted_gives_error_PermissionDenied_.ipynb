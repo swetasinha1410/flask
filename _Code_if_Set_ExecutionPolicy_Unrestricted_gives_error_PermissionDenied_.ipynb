{
  "nbformat": 4,
  "nbformat_minor": 0,
  "metadata": {
    "colab": {
      "provenance": []
    },
    "kernelspec": {
      "name": "python3",
      "display_name": "Python 3"
    },
    "language_info": {
      "name": "python"
    }
  },
  "cells": [
    {
      "cell_type": "markdown",
      "source": [
        "#Code if Set-ExecutionPolicy Unrestricted gives error PermissionDenied:"
      ],
      "metadata": {
        "id": "JAW-II16gnQ1"
      }
    },
    {
      "cell_type": "code",
      "source": [
        " Set-ExecutionPolicy -Scope CurrentUser RemoteSigned -Force\n"
      ],
      "metadata": {
        "id": "CScXGbQJgmNM"
      },
      "execution_count": null,
      "outputs": []
    }
  ]
}