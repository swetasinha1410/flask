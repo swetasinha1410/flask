{
  "nbformat": 4,
  "nbformat_minor": 0,
  "metadata": {
    "colab": {
      "provenance": []
    },
    "kernelspec": {
      "name": "python3",
      "display_name": "Python 3"
    },
    "language_info": {
      "name": "python"
    }
  },
  "cells": [
    {
      "cell_type": "markdown",
      "source": [
        "Objective : Deployed of model using flask using sublime text and Anaconda Prompt"
      ],
      "metadata": {
        "id": "Xa9DAhvmUjHk"
      }
    },
    {
      "cell_type": "code",
      "source": [
        "Open Sublime text"
      ],
      "metadata": {
        "id": "pwOrTLBaVJ0Y"
      },
      "execution_count": null,
      "outputs": []
    },
    {
      "cell_type": "code",
      "source": [
        "#Use Below codes\n",
        "\n",
        "from flask import Flask\n",
        "app = Flask(__name__)\n",
        "\n",
        "@app.route('/')\n",
        "def home():\n",
        "    return '<h1>First Flask app is running</h1>'\n",
        "\n",
        "\n",
        "if __name__=='__main__':\n",
        "    app.run(debug=True)"
      ],
      "metadata": {
        "id": "nLfwUqbVVQYI"
      },
      "execution_count": null,
      "outputs": []
    },
    {
      "cell_type": "markdown",
      "source": [
        "Enter Above code and save in your folder with extension abc.py"
      ],
      "metadata": {
        "id": "ETkgIcdFVdnr"
      }
    },
    {
      "cell_type": "markdown",
      "source": [
        "**Working on Anaconda Prompt**"
      ],
      "metadata": {
        "id": "qjeMUFnQWLL6"
      }
    },
    {
      "cell_type": "code",
      "source": [
        "#change directory to folder(iris)\n",
        "\n",
        "(base) C:\\Users\\swsinha>cd desktop\n",
        "(base) C:\\Users\\swsinha\\Desktop>cd iris"
      ],
      "metadata": {
        "id": "mNjRQU0rWKUF"
      },
      "execution_count": null,
      "outputs": []
    },
    {
      "cell_type": "code",
      "source": [
        "#create New environment\n",
        "(base) C:\\Users\\swsinha\\Desktop\\iris>conda create --name mydeployenv"
      ],
      "metadata": {
        "id": "ZxpOOel4VbfZ"
      },
      "execution_count": null,
      "outputs": []
    },
    {
      "cell_type": "code",
      "source": [
        "#activate new environment\n",
        "(base) C:\\Users\\swsinha\\Desktop\\iris>conda activate mydeployenv"
      ],
      "metadata": {
        "id": "Zl9oYdiYXCWF"
      },
      "execution_count": null,
      "outputs": []
    },
    {
      "cell_type": "code",
      "source": [
        "#Run the created abc.py in sublime text\n",
        "(mydeployenv) C:\\Users\\swsinha\\Desktop\\iris>python api.py"
      ],
      "metadata": {
        "id": "AvZtdposXekh"
      },
      "execution_count": null,
      "outputs": []
    },
    {
      "cell_type": "markdown",
      "source": [
        "**Here you will get link . Just copy and past in your browser and you will find your web**"
      ],
      "metadata": {
        "id": "sfv_mYAMYM1M"
      }
    },
    {
      "cell_type": "markdown",
      "source": [
        "**Deployment Code** "
      ],
      "metadata": {
        "id": "_Sa0p7mrYYlC"
      }
    },
    {
      "cell_type": "code",
      "source": [
        "import joblib\n",
        "import pickle\n",
        "\n",
        "filename = 'savedmodel.sav'\n",
        "joblib.dump(model, open(filename,'wb'))"
      ],
      "metadata": {
        "id": "30wPJKi9YLws"
      },
      "execution_count": null,
      "outputs": []
    },
    {
      "cell_type": "code",
      "source": [
        "#Load Model\n",
        "load_model = joblib.load(open(filename,'rb'))"
      ],
      "metadata": {
        "id": "woEjhQQdY9BC"
      },
      "execution_count": null,
      "outputs": []
    },
    {
      "cell_type": "code",
      "source": [
        "#Example taken for prediction\n",
        "flower_sample={'sepal_length':4.9, 'sepal_width':3.0, 'petal_length':1.4, 'petal_width':0.2}\n"
      ],
      "metadata": {
        "id": "ALIDCkB1ZAnX"
      },
      "execution_count": null,
      "outputs": []
    },
    {
      "cell_type": "code",
      "source": [
        "#Define prediction function\n",
        "def return_prediction(model,sample_json) :\n",
        "\n",
        "\n",
        "  s_length = sample_json['sepal_length']\n",
        "  s_width = sample_json['sepal_width']\n",
        "  p_length = sample_json['petal_length']\n",
        "  p_width = sample_json['petal_width']\n",
        "\n",
        "  flower= [[s_length,s_width,p_length,p_width]]\n",
        "\n",
        "  #classes = np.array(['Iris-setosa', 'Iris-versicolor', 'Iris-virginica'])\n",
        "\n",
        "  #flower=scaler.transform(flower)\n",
        "\n",
        "  class_ind = model.predict(flower)[0]\n",
        "\n",
        "  return class_ind"
      ],
      "metadata": {
        "id": "sccyzvLKZXoX"
      },
      "execution_count": null,
      "outputs": []
    },
    {
      "cell_type": "markdown",
      "source": [
        "##Iris deployment with python(sublime text code-after whhich command promt will run)\n"
      ],
      "metadata": {
        "id": "QOSZOiQAZ5bY"
      }
    },
    {
      "cell_type": "code",
      "source": [
        "from flask import Flask,request,jsonify,render_template\n",
        "import joblib\n",
        "import numpy as np\n",
        "from sklearn.ensemble import RandomForestClassifier\n",
        "import pickle\n",
        "\n",
        "\n",
        "app = Flask(__name__)\n",
        "# load the model\n",
        "model = joblib.load(open('savedmodel.sav', 'rb'))\n",
        "\n",
        "@app.route(\"/\")\n",
        "def index():\n",
        "    return '<h1>Flask app is running </h1>'\n",
        "\n",
        "\n",
        "\n",
        "@app.route('/prediction',methods=['POST'])\n",
        "def flower_prediction(model,sample_json):\n",
        "    s_length = sample_json['sepal_length']\n",
        "    s_width = sample_json['sepal_width']\n",
        "    p_length = sample_json['petal_length']\n",
        "    p_width = sample_json['petal_width']\n",
        "\n",
        "    flower= [[s_length,s_width,p_length,p_width]]\n",
        "\n",
        "    #classes = np.array(['Iris-setosa', 'Iris-versicolor', 'Iris-virginica'])\n",
        "    #flower=scaler.transform(flower)\n",
        "\n",
        "    class_ind = model.predict(flower)[0]\n",
        "\n",
        "    return class_ind"
      ],
      "metadata": {
        "id": "EIRsgcseaIxP"
      },
      "execution_count": null,
      "outputs": []
    },
    {
      "cell_type": "markdown",
      "source": [
        "**Code for creating requirement**"
      ],
      "metadata": {
        "id": "9zTov3nMaaCb"
      }
    },
    {
      "cell_type": "code",
      "source": [
        "Install the necessary libraries in command promt\n",
        "!pip install flask\n",
        "!pip install scikit-learn\n",
        "!pip install numpy"
      ],
      "metadata": {
        "id": "ePpHys7Takw2"
      },
      "execution_count": null,
      "outputs": []
    },
    {
      "cell_type": "code",
      "source": [
        "(mydeployenv) C:\\Users\\swsinha\\Desktop\\deployment>pip freeze > requirements.txt"
      ],
      "metadata": {
        "id": "ry4cDOQIafkL"
      },
      "execution_count": null,
      "outputs": []
    }
  ]
}