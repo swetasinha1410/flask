{
  "nbformat": 4,
  "nbformat_minor": 0,
  "metadata": {
    "colab": {
      "provenance": []
    },
    "kernelspec": {
      "name": "python3",
      "display_name": "Python 3"
    },
    "language_info": {
      "name": "python"
    }
  },
  "cells": [
    {
      "cell_type": "code",
      "execution_count": null,
      "metadata": {
        "id": "ThSyjW47cIKY"
      },
      "outputs": [],
      "source": [
        "md MLTestProject\n",
        "cd MLTestProject\n",
        "python -m pip install --upgrade pip\n",
        "python -m pip install virtualenvwrapper-win\n",
        "python -m virtualenv testenv"
      ]
    },
    {
      "cell_type": "markdown",
      "source": [
        "https://stackoverflow.com/questions/45567986/python-3-6-virtualenv-is-not-recognized-as-an-internal-or-external-command"
      ],
      "metadata": {
        "id": "CY1QEhZ-cYBO"
      }
    }
  ]
}